{
 "cells": [
  {
   "cell_type": "code",
   "execution_count": 2,
   "metadata": {
    "vscode": {
     "languageId": "r"
    }
   },
   "outputs": [
    {
     "ename": "ERROR",
     "evalue": "Error in parse(text = x, srcfile = src): <text>:1:8: unexpected symbol\n1: import numpy\n           ^\n",
     "output_type": "error",
     "traceback": [
      "Error in parse(text = x, srcfile = src): <text>:1:8: unexpected symbol\n1: import numpy\n           ^\nTraceback:\n"
     ]
    }
   ],
   "source": [
    "import numpy as np\n",
    "import matplotlib.pyplot as plt\n",
    "from scipy.interpolate import interp1d\n",
    "from functools import reduce\n",
    "from scipy.stats import linregress\n",
    "from scipy import fftpack\n",
    "from scipy.signal import detrend\n",
    "from tqdm import tqdm\n",
    "from scipy.optimize import root_scalar\n",
    "from tqdm.notebook import tqdm_notebook\n",
    "from scipy.optimize import curve_fit\n",
    "from tsmoothie.smoother import LowessSmoother\n",
    "import matplotlib\n",
    "from statsmodels.tsa.stattools import acf, pacf\n",
    "import mpl_interactions.ipyplot as iplt\n",
    "from sklearn.metrics import r2_score\n",
    "from scipy.stats import linregress\n",
    "from scipy.signal import detrend"
   ]
  },
  {
   "cell_type": "code",
   "execution_count": null,
   "metadata": {
    "vscode": {
     "languageId": "r"
    }
   },
   "outputs": [],
   "source": [
    "def psi(m, b):\n",
    "    return (1/10) * b**(-1/10) * m**(-0.9)\n",
    "\n",
    "def cumulativeM(m, b):\n",
    "    return b**(-0.1) * m**(0.1)\n",
    "\n",
    "def inverseCumM(u, b):\n",
    "    return b * u**(10)"
   ]
  },
  {
   "cell_type": "code",
   "execution_count": null,
   "metadata": {
    "vscode": {
     "languageId": "r"
    }
   },
   "outputs": [],
   "source": [
    "def pdfLogSpace(x, xb, gamma):\n",
    "    return 2**(- gamma) * gamma * np.exp(gamma*(- x + xb + np.exp(xb) - 2*np.exp(x))+ np.log(1 + 2 * np.exp(x))) \n",
    "\n",
    "\n",
    "def cdfLogSpace(x, xb, gamma):\n",
    "    return 1  - 2**(- gamma) * np.exp(gamma * (-2 * np.exp(x) + np.exp(xb) - x + xb))\n",
    "\n",
    "\n",
    "def  drawCDF(unif, gamma, xb):\n",
    "    #if np.sign(cdfLogSpace(-100, gamma = gamma, xb = xb) - unif) * np.sign(cdfLogSpace(50, gamma = gamma, xb = xb) - unif) == 1:\n",
    "        #print(gamma, xb, unif, cdfLogSpace(-200, gamma = gamma, xb = xb) - unif, cdfLogSpace(50, gamma = gamma, xb = xb) - unif)\n",
    "    return root_scalar(lambda t: cdfLogSpace(t, gamma = gamma, xb = xb) - unif, bracket=[-400, 50], method='brentq').root"
   ]
  },
  {
   "cell_type": "code",
   "execution_count": null,
   "metadata": {
    "vscode": {
     "languageId": "r"
    }
   },
   "outputs": [],
   "source": [
    "criticalPoint = 1 / np.log(2)\n",
    "gammaValues = - np.abs(np.logspace(np.log10(np.abs(1 - criticalPoint)), np.log10(1e-3), 100))  + criticalPoint\n",
    "gamma_gammaC = np.abs(np.logspace(np.log10(np.abs(1 - criticalPoint)), np.log10(1e-3), 100))"
   ]
  },
  {
   "cell_type": "code",
   "execution_count": null,
   "metadata": {
    "vscode": {
     "languageId": "r"
    }
   },
   "outputs": [],
   "source": [
    "def sizeAtBirth(gamma, xb0, seriesLength = 5000):\n",
    "    uniformDraws = np.random.uniform(size = seriesLength)\n",
    "\n",
    "    logSizes = np.zeros(seriesLength)\n",
    "    logSizes[0] = xb0\n",
    "    for i in range(1, seriesLength):\n",
    "        logSizes[i] = drawCDF(unif = uniformDraws[i], gamma = gamma, xb = logSizes[i-1])\n",
    "\n",
    "    return logSizes"
   ]
  },
  {
   "cell_type": "code",
   "execution_count": null,
   "metadata": {
    "vscode": {
     "languageId": "r"
    }
   },
   "outputs": [
    {
     "data": {
      "application/vnd.jupyter.widget-view+json": {
       "model_id": "d41c5765171f4cf1961949359936c6c4",
       "version_major": 2,
       "version_minor": 0
      },
      "text/plain": [
       "  0%|          | 0/100 [00:00<?, ?it/s]"
      ]
     },
     "metadata": {},
     "output_type": "display_data"
    }
   ],
   "source": [
    "b = 10\n",
    "seriesLength = 20400\n",
    "simulate = False\n",
    "startingPointsUniform = np.random.uniform(0, 1, len(gammaValues))\n",
    "b = 10\n",
    "def inverseCumM(u, b):\n",
    "    return b * u**(10)\n",
    "startingPoints = inverseCumM(startingPointsUniform, b)\n",
    "if simulate:\n",
    "    allSizes = np.zeros((len(gammaValues), seriesLength))\n",
    "    for i, gamma in enumerate(tqdm_notebook(gammaValues)):\n",
    "        sizeBirth = sizeAtBirth(gamma = gamma, xb0 = startingPointsUniform[i], seriesLength = seriesLength)\n",
    "        allSizes[i,:] = sizeBirth\n",
    "\n",
    "    #np.save(\"../../data/sizeAtBirthPowerSpectrum.npy\", allSizes)"
   ]
  },
  {
   "cell_type": "code",
   "execution_count": null,
   "metadata": {
    "vscode": {
     "languageId": "r"
    }
   },
   "outputs": [],
   "source": [
    "allSizes = np.load(\"../../data/sizeAtBirthPowerSpectrum.npy\")"
   ]
  },
  {
   "cell_type": "code",
   "execution_count": null,
   "metadata": {
    "vscode": {
     "languageId": "r"
    }
   },
   "outputs": [],
   "source": [
    "fig, ax = plt.subplots(1, 1, figsize = (10, 5))\n",
    "ax.hist(np.exp(allSizes[-1,:]), bins = 200, density = True)\n",
    "plt.show()"
   ]
  },
  {
   "cell_type": "code",
   "execution_count": null,
   "metadata": {
    "vscode": {
     "languageId": "r"
    }
   },
   "outputs": [],
   "source": [
    "timeSeries = allSizes[0,:]\n",
    "generations = np.arange(1, len(timeSeries) + 1) # The \"time\" variable\n",
    "\n",
    "dt = 1 # The sampling interval\n",
    "N = len(timeSeries) # The number of samples\n",
    "T = N * dt # The total time of the measurement\n",
    "timeSeriesFourier = np.fft.fft(timeSeries - timeSeries.mean()) # The Fourier transform of the signal removing the 0Hz component"
   ]
  }
 ],
 "metadata": {
  "kernelspec": {
   "display_name": "R",
   "language": "R",
   "name": "ir"
  },
  "language_info": {
   "codemirror_mode": "r",
   "file_extension": ".r",
   "mimetype": "text/x-r-source",
   "name": "R",
   "pygments_lexer": "r",
   "version": "3.6.1"
  },
  "orig_nbformat": 4
 },
 "nbformat": 4,
 "nbformat_minor": 2
}
