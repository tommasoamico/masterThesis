{
 "cells": [
  {
   "cell_type": "code",
   "execution_count": 1,
   "metadata": {},
   "outputs": [],
   "source": [
    "import numpy as np\n",
    "import matplotlib.pyplot as plt\n",
    "from scipy.interpolate import interp1d\n",
    "from functools import reduce\n",
    "from scipy.stats import linregress\n",
    "from scipy import fftpack\n",
    "from scipy.signal import detrend\n",
    "from scipy.optimize import root_scalar\n",
    "from tqdm import tqdm\n",
    "from scipy import special\n",
    "from statsmodels.tsa.stattools import acf, pacf\n",
    "from tqdm.notebook import tqdm_notebook"
   ]
  },
  {
   "cell_type": "code",
   "execution_count": 2,
   "metadata": {},
   "outputs": [],
   "source": [
    "'''\n",
    "Cell size evolution x(t)\n",
    "'''\n",
    "def x_function(t, u, xb, omega1 = 1):\n",
    "    \n",
    "\n",
    "    x = (xb+u)*np.exp(omega1*t)-u\n",
    "    return x\n",
    "    \n",
    "\n",
    "'''\n",
    "Hazard rate function h(t)\n",
    "'''\n",
    "def h(t, u, xb, omega2, omega1 = 1, v = 1):\n",
    "    \n",
    "\n",
    "    h = omega2*(1+x_function(t, u, xb, omega1)/v)\n",
    "    return h    \n",
    "\n",
    "\n",
    "'''\n",
    "Logarithm of survival function s(t)\n",
    "'''\n",
    "def SDF(t, omega2, u, xb, omega1 = 1, v = 1):\n",
    "    \n",
    "    s = np.exp(omega2*t*(u/v - 1) + (omega2/omega1)*((u + xb)/v)*(1-np.exp(omega1*t)))\n",
    "    return s\n"
   ]
  },
  {
   "cell_type": "code",
   "execution_count": 3,
   "metadata": {},
   "outputs": [],
   "source": [
    "def sizesAtBirth(omega2, omega1 = 1, xb0 = 1, u = 0, v = 1, seriesLength = 10000):\n",
    "    pointsPerEvolution = 200 # Number of points per cell division\n",
    "    sizesAtBirth = np.zeros(seriesLength)\n",
    "    #timesAtBirth = np.zeros(seriesLength)\n",
    "    \n",
    "    \n",
    "    s_drawn = np.random.uniform(low=0, high = 1, size = seriesLength)\n",
    "    # Initialize the cell size array\n",
    "    cellSizes = np.zeros(pointsPerEvolution*seriesLength)\n",
    "    xb = xb0\n",
    "    t = 0\n",
    "    for i in range(seriesLength): \n",
    "        sizesAtBirth[i] = xb\n",
    "        #parameters = (1,0.9,0.1,1,mb) # omega1, omega2, mu, nu, xb\n",
    "        sol = root_scalar(lambda t: SDF(t, omega2, u, xb) - s_drawn[i], bracket=[0, 40], method='brentq')\n",
    "        tau = sol.root\n",
    "        #sim_t.append(tau)\n",
    "\n",
    "        # evolution\n",
    "        times = np.linspace(0, tau, pointsPerEvolution)\n",
    "        xt = x_function(times, u = u, xb = xb, omega1 = omega1)\n",
    "        # pt = p_function(times, parameters)\n",
    "        \n",
    "        # store times and sizes\n",
    "        #all_times[i*points_per_evolution : (i+1)*points_per_evolution] = np.linspace(t, t+tau, points_per_evolution)\n",
    "        cellSizes[i*pointsPerEvolution : (i+1)*pointsPerEvolution] = xt\n",
    "\n",
    "        # update the initial time and the starting size\n",
    "        xb = xt[-1]*(1/2)\n",
    "        t = t+tau\n",
    "    \n",
    "    return sizesAtBirth, cellSizes\n"
   ]
  },
  {
   "cell_type": "code",
   "execution_count": 4,
   "metadata": {},
   "outputs": [],
   "source": [
    "criticalPoint = 1 / np.log(2)\n",
    "omega2Values = - np.abs(np.logspace(np.log10(np.abs(1 - criticalPoint)), np.log10(1e-3), 100))  + criticalPoint\n",
    "gamma_gammaC = np.abs(np.logspace(np.log10(np.abs(1 - criticalPoint)), np.log10(1e-3), 100))"
   ]
  },
  {
   "cell_type": "code",
   "execution_count": 5,
   "metadata": {},
   "outputs": [],
   "source": [
    "def cumulative(b, delta, m):\n",
    "    return b**(-delta) * m**(delta)\n",
    "\n",
    "def inverseCum(b, delta, u):\n",
    "    return b * u**(1/delta)\n",
    "\n",
    "def delta(distance):\n",
    "    return 0.76*distance"
   ]
  },
  {
   "cell_type": "code",
   "execution_count": 19,
   "metadata": {},
   "outputs": [
    {
     "data": {
      "application/vnd.jupyter.widget-view+json": {
       "model_id": "ce7915ca676c4364aa3a1e7d48e5e0d5",
       "version_major": 2,
       "version_minor": 0
      },
      "text/plain": [
       "  0%|          | 0/16 [00:00<?, ?it/s]"
      ]
     },
     "metadata": {},
     "output_type": "display_data"
    }
   ],
   "source": [
    "seriesLength = 1000000\n",
    "simulate = True\n",
    "absorbingValues = []\n",
    "if simulate:\n",
    "    startingPointsUniform = np.random.uniform(0, 1, len(omega2Values))\n",
    "    startingPoints = [inverseCum(b = 10, delta = delta(gamma_gammaC[i]), u = startingPointsUniform[i]) for i in range(len(omega2Values))]\n",
    "    aCorrValues = np.zeros((len(omega2Values), seriesLength ))\n",
    "    #allSizes = np.zeros((len(omega2Values), 100000))\n",
    "    for i, omega2 in enumerate(tqdm_notebook(omega2Values)):\n",
    "        #sizes = np.zeros(100000)\n",
    "        sizeBirth, _ = sizesAtBirth(omega2 = omega2, omega1 = 1, xb0 = startingPoints[i], u = 0, v = 1, seriesLength = seriesLength)\n",
    "        #sizes += sizeBirth[-100000:]\n",
    "        #allSizes[i,:] = sizes\n",
    "        autocorrelation = acf(sizeBirth, fft = True, nlags = seriesLength - 1)\n",
    "        aCorrValues[i, :] += autocorrelation #]/ nTrajectoires \n",
    "        \n",
    "\n",
    "            \n",
    "    #np.save(\"../../../data/sizeAtBirthShort1Milion.npy\", allSizes)\n",
    "    np.save(\"../../../data/aCorrValuesShort1MilionSupplementary.npy\", aCorrValues)"
   ]
  },
  {
   "cell_type": "code",
   "execution_count": 16,
   "metadata": {},
   "outputs": [
    {
     "data": {
      "text/plain": [
       "array([ 1.00000000e+00,  8.23115143e-01,  7.01182500e-01, ...,\n",
       "       -2.94371130e-05, -2.44404808e-05, -1.51863074e-05])"
      ]
     },
     "execution_count": 16,
     "metadata": {},
     "output_type": "execute_result"
    }
   ],
   "source": [
    "acf(sizeBirth, fft = True, nlags = seriesLength - 1)"
   ]
  },
  {
   "cell_type": "code",
   "execution_count": null,
   "metadata": {},
   "outputs": [],
   "source": []
  }
 ],
 "metadata": {
  "kernelspec": {
   "display_name": "new_base",
   "language": "python",
   "name": "python3"
  },
  "language_info": {
   "codemirror_mode": {
    "name": "ipython",
    "version": 3
   },
   "file_extension": ".py",
   "mimetype": "text/x-python",
   "name": "python",
   "nbconvert_exporter": "python",
   "pygments_lexer": "ipython3",
   "version": "3.8.15"
  },
  "orig_nbformat": 4
 },
 "nbformat": 4,
 "nbformat_minor": 2
}
